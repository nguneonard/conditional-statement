{
 "cells": [
  {
   "cell_type": "markdown",
   "metadata": {},
   "source": [
    "***\n",
    "# &nbsp;\n",
    "<font size=\"6\" color=\"#00A0B2\"  face=\"verdana\"> <B>CONTROL FLOW STATEMENTS IN PYTHON</B></font>\n",
    "***"
   ]
  },
  {
   "cell_type": "markdown",
   "metadata": {},
   "source": [
    "In programming languages, flow control means the order in which the statements or instructions, that we write, get executed. In order to understand a program, we should be aware of what statements are being executed and in which order"
   ]
  },
  {
   "cell_type": "markdown",
   "metadata": {},
   "source": [
    "There are, generally, three ways in which the statements will be executed. They are,\n",
    "1.\tSequential\n",
    "2.\tConditional\n",
    "3.\tLooping\n"
   ]
  },
  {
   "cell_type": "code",
   "execution_count": 1,
   "metadata": {
    "scrolled": true
   },
   "outputs": [
    {
     "data": {
      "image/png": "[encoded data removed]",
      "text/plain": [
       "<PIL.PngImagePlugin.PngImageFile image mode=P size=602x271 at 0xF3355C5940>"
      ]
     },
     "metadata": {},
     "output_type": "display_data"
    }
   ],
   "source": [
    "#Load and show an image with Pillow\n",
    "from PIL import Image\n",
    "\n",
    "#Load the image\n",
    "img = Image.open('C:\\\\Users\\\\NEONARD\\\\Documents\\\\python projects\\\\Learning data analysis\\\\images\\\\flow.png')\n",
    "\n",
    "#show the image\n",
    "\n",
    "# Loading image inline using PIL display() loads the image inline\n",
    "display(img)"
   ]
  },
  {
   "cell_type": "markdown",
   "metadata": {},
   "source": [
    "- ***Sequential:*** In this type of execution flow, the statements are executed one after the other sequentially. By using sequential statements, we can develop simple programs\n",
    "- ***Conditional:*** Statements are executed based on the condition. As shown above in the flow graph, if the condition is true then one set of statements are executed, and if false then the other set. Conditional statements are used much in complex programs.\n",
    "- ***Looping(iteration):*** A set of statements are executed repeatedly until the condition becomes false. Once the condition becomes false then the execution comes out of that loop\n"
   ]
  },
  {
   "cell_type": "markdown",
   "metadata": {},
   "source": [
    "\n",
    "***\n",
    "<font size=\"5\" color=\"#00A0B2\"  face=\"verdana\"> ### CONDITIONAL STATEMENTS IN PYTHON </font>\n",
    "\n",
    "***\n",
    "\n",
    "Conditional statements are also called decision-making statements. \n",
    "There are three types of conditional statements in python. They are as follows:\n",
    "1.\tif statement\n",
    "2.\tif-else statement\n",
    "3.\tif elif else"
   ]
  },
  {
   "cell_type": "code",
   "execution_count": null,
   "metadata": {},
   "outputs": [],
   "source": []
  },
  {
   "cell_type": "markdown",
   "metadata": {},
   "source": [
    "- Use the for statement and the built­in range function to repeat actions for a sequence of values.\n",
    "- Perform sentinel­controlled iteration with while.\n",
    "- Create compound conditions with the Boolean operators and, or and not.\n",
    "- Stop looping with break\n",
    "- Force the next iteration of a loop with continue."
   ]
  },
  {
   "cell_type": "markdown",
   "metadata": {},
   "source": [
    "## if statement in python"
   ]
  },
  {
   "cell_type": "markdown",
   "metadata": {},
   "source": [
    "#### The if statement performs an action if a condition is True or skips the action if the condition is False."
   ]
  },
  {
   "cell_type": "code",
   "execution_count": 2,
   "metadata": {},
   "outputs": [
    {
     "name": "stdout",
     "output_type": "stream",
     "text": [
      "enter the number10\n",
      "Number is even\n"
     ]
    }
   ],
   "source": [
    "num  = int(input(\"enter the number\"))\n",
    "if num %2 ==0:   # syntax colon (:) is mandatory otherwise it throws a syntax error\n",
    "    print(\"Number is even\")"
   ]
  },
  {
   "cell_type": "code",
   "execution_count": 19,
   "metadata": {},
   "outputs": [
    {
     "name": "stdout",
     "output_type": "stream",
     "text": [
      "Passed\n"
     ]
    }
   ],
   "source": [
    "grade = 85\n",
    "if grade >= 60:\n",
    "    print('Passed')"
   ]
  },
  {
   "cell_type": "code",
   "execution_count": 8,
   "metadata": {},
   "outputs": [
    {
     "name": "stdout",
     "output_type": "stream",
     "text": [
      "num==1 condition gives:  True\n",
      "if block statements executed\n"
     ]
    }
   ],
   "source": [
    "num = 1\n",
    "print(\"num==1 condition gives: \", (num==1))\n",
    "if num == 1:\n",
    "    print(\"if block statements executed\")"
   ]
  },
  {
   "cell_type": "code",
   "execution_count": null,
   "metadata": {},
   "outputs": [],
   "source": []
  },
  {
   "cell_type": "markdown",
   "metadata": {},
   "source": [
    "## if-else statement in python"
   ]
  },
  {
   "cell_type": "markdown",
   "metadata": {},
   "source": [
    "#### The if... else statement performs an action if a condition is True or performs a different action if the condition is False."
   ]
  },
  {
   "cell_type": "code",
   "execution_count": 10,
   "metadata": {},
   "outputs": [
    {
     "name": "stdout",
     "output_type": "stream",
     "text": [
      "num==1 condition gives:  True\n",
      "if block statements executed\n"
     ]
    }
   ],
   "source": [
    "num = 1\n",
    "print(\"num==1 condition gives: \", (num==1))\n",
    "if num == 1:\n",
    "    print(\"if block statements executed\")\n",
    "else:\n",
    "    print(\"else block statements executed\")\n"
   ]
  },
  {
   "cell_type": "code",
   "execution_count": 5,
   "metadata": {},
   "outputs": [
    {
     "name": "stdout",
     "output_type": "stream",
     "text": [
      "Enter your age? 30\n",
      "your are eligible to vote\n"
     ]
    }
   ],
   "source": [
    "age = int(input(\"Enter your age? \"))\n",
    "if age >=18:\n",
    "    print(\"your are eligible to vote\")\n",
    "else:\n",
    "    print(\"Sorry!! you have to wait!!!\")"
   ]
  },
  {
   "cell_type": "code",
   "execution_count": 11,
   "metadata": {},
   "outputs": [
    {
     "name": "stdout",
     "output_type": "stream",
     "text": [
      "num==2 condition gives:  True\n",
      "else block statements executed\n"
     ]
    }
   ],
   "source": [
    "num = 1\n",
    "print(\"num==2 condition gives: \", (num==1))\n",
    "if num == 2:\n",
    "    print(\"if block statements executed\")\n",
    "else:\n",
    "    print(\"else block statements executed\")"
   ]
  },
  {
   "cell_type": "code",
   "execution_count": 20,
   "metadata": {},
   "outputs": [
    {
     "name": "stdout",
     "output_type": "stream",
     "text": [
      "Passed\n"
     ]
    }
   ],
   "source": [
    "grade = 85\n",
    "if grade >= 60:\n",
    "    print('Passed')\n",
    "else:\n",
    "    print('Failed')"
   ]
  },
  {
   "cell_type": "code",
   "execution_count": 23,
   "metadata": {},
   "outputs": [
    {
     "data": {
      "text/plain": [
       "'Passed'"
      ]
     },
     "execution_count": 23,
     "metadata": {},
     "output_type": "execute_result"
    }
   ],
   "source": [
    "grade = 87\n",
    "if grade >= 60:\n",
    "    result = 'Passed'\n",
    "else:\n",
    "     result = 'Failed'\n",
    "        \n",
    "result"
   ]
  },
  {
   "cell_type": "code",
   "execution_count": 24,
   "metadata": {},
   "outputs": [
    {
     "data": {
      "text/plain": [
       "'Passed'"
      ]
     },
     "execution_count": 24,
     "metadata": {},
     "output_type": "execute_result"
    }
   ],
   "source": [
    "result = ('Passed' if grade >= 60 else 'Failed')\n",
    "result"
   ]
  },
  {
   "cell_type": "code",
   "execution_count": null,
   "metadata": {},
   "outputs": [],
   "source": []
  },
  {
   "cell_type": "markdown",
   "metadata": {},
   "source": [
    "## if elif else statement in python\n",
    "\n",
    "The condition gives the result as bool type, which means either True or False. The conditions are evaluated in the order written. If one condition becomes True then the set of statements associated with that particular condition are executed and the execution comes out without checking other conditions."
   ]
  },
  {
   "cell_type": "markdown",
   "metadata": {},
   "source": [
    "#### The if... elif... else statement performs one of many different actions, depending on the truth or falsity of several conditions"
   ]
  },
  {
   "cell_type": "code",
   "execution_count": 25,
   "metadata": {},
   "outputs": [
    {
     "name": "stdout",
     "output_type": "stream",
     "text": [
      "C\n"
     ]
    }
   ],
   "source": [
    "grade = 77\n",
    "if grade >= 90:\n",
    "    print('A')\n",
    "elif grade >= 80:\n",
    "    print('B')\n",
    "elif grade >= 70:\n",
    "    print('C')\n",
    "elif grade >= 60:\n",
    "    print('D')\n",
    "else:\n",
    "    print('F')"
   ]
  },
  {
   "cell_type": "code",
   "execution_count": null,
   "metadata": {},
   "outputs": [],
   "source": []
  },
  {
   "cell_type": "code",
   "execution_count": 13,
   "metadata": {},
   "outputs": [
    {
     "name": "stdout",
     "output_type": "stream",
     "text": [
      "Please enter the values from 0 to 4\n",
      "Enter a number: 3\n",
      "You entered: 3\n"
     ]
    }
   ],
   "source": [
    "print(\"Please enter the values from 0 to 4\")\n",
    "x=int(input(\"Enter a number: \"))\n",
    "if x==0:\n",
    "    print(\"You entered:\", x)\n",
    "elif x==1:\n",
    "    print(\"You entered:\", x)\n",
    "elif x==2:\n",
    "    print(\"You entered:\", x)\n",
    "elif x==3:\n",
    "    print(\"You entered:\", x)\n",
    "elif x==4:\n",
    "    print(\"You entered:\", x)\n",
    "else:\n",
    "    print(\"Beyond the range than specified\")"
   ]
  },
  {
   "cell_type": "code",
   "execution_count": null,
   "metadata": {},
   "outputs": [],
   "source": []
  },
  {
   "cell_type": "code",
   "execution_count": 15,
   "metadata": {},
   "outputs": [
    {
     "name": "stdout",
     "output_type": "stream",
     "text": [
      "Enter a number: 4\n",
      "The number is positive number\n"
     ]
    }
   ],
   "source": [
    "##  Checking number is positive or negative using if-else statement \n",
    "\n",
    "x=int(input(\"Enter a number: \"))\n",
    "if x<0:\n",
    "    print(\"The number is negative number\")\n",
    "else:\n",
    "    print(\"The number is positive number\")"
   ]
  },
  {
   "cell_type": "code",
   "execution_count": null,
   "metadata": {},
   "outputs": [],
   "source": []
  },
  {
   "cell_type": "code",
   "execution_count": 5,
   "metadata": {},
   "outputs": [
    {
     "name": "stdout",
     "output_type": "stream",
     "text": [
      "Enter a number: -1\n",
      "The number is negative\n"
     ]
    }
   ],
   "source": [
    "num = int(input('Enter a number: '))\n",
    "if num > 0:\n",
    "    print('The number is positive')\n",
    "elif num < 0:\n",
    "    print('The number is negative')\n",
    "else:\n",
    "    print('The number is zero')"
   ]
  },
  {
   "cell_type": "code",
   "execution_count": null,
   "metadata": {},
   "outputs": [],
   "source": []
  },
  {
   "cell_type": "code",
   "execution_count": null,
   "metadata": {},
   "outputs": [],
   "source": [
    "## Validating the name entered with the username we have \n",
    "\n",
    "user_name = 'rahul'\n",
    "x=input(\"Enter a name: \")\n",
    "if user_name == x:\n",
    "    print(\"The name is valid\")\n",
    "else:\n",
    "    print(\"The name is invalid\")"
   ]
  },
  {
   "cell_type": "code",
   "execution_count": null,
   "metadata": {},
   "outputs": [],
   "source": []
  },
  {
   "cell_type": "code",
   "execution_count": 1,
   "metadata": {},
   "outputs": [
    {
     "name": "stdout",
     "output_type": "stream",
     "text": [
      "Enter First Number: 5\n",
      "Enter Second Number: 3\n",
      "Biggest Number is:  5\n"
     ]
    }
   ],
   "source": [
    "## Finding the biggest number among entered two numbers\n",
    "\n",
    "x=int(input(\"Enter First Number: \"))\n",
    "y=int(input(\"Enter Second Number: \"))\n",
    "if x>y :\n",
    "    print(\"Biggest Number is: \", x)\n",
    "else :\n",
    "    print(\"Biggest Number is: \", y)"
   ]
  },
  {
   "cell_type": "code",
   "execution_count": null,
   "metadata": {},
   "outputs": [],
   "source": []
  },
  {
   "cell_type": "code",
   "execution_count": 2,
   "metadata": {},
   "outputs": [
    {
     "name": "stdout",
     "output_type": "stream",
     "text": [
      "Enter First Number: 4\n",
      "Enter Second Number: 5\n",
      "Enter Third Number: 6\n",
      "Biggest Number is:  6\n"
     ]
    }
   ],
   "source": [
    "## Finding the biggest number among entered three numbers\n",
    "\n",
    "x=int(input(\"Enter First Number: \"))\n",
    "y=int(input(\"Enter Second Number: \"))\n",
    "z=int(input(\"Enter Third Number: \"))\n",
    "if x>y and x>z:\n",
    "    print(\"Biggest Number is: \", x)\n",
    "elif y>z :\n",
    "    print(\"Biggest Number is: \", y)\n",
    "else:\n",
    "    print(\"Biggest Number is: \", z)"
   ]
  },
  {
   "cell_type": "code",
   "execution_count": null,
   "metadata": {},
   "outputs": [],
   "source": []
  },
  {
   "cell_type": "code",
   "execution_count": null,
   "metadata": {},
   "outputs": [],
   "source": []
  },
  {
   "cell_type": "markdown",
   "metadata": {},
   "source": [
    "## Task \n",
    "\n",
    "***Write a program to prompt the user for hours and rate per hour using input to compute gross pay. \n",
    "Pay the hourly rate for the hours up to 40 and 1.5 times the hourly rate for all hours worked above 40 hours. \n",
    "Use 45 hours and a rate of 10.50 per hour to test the program (the pay should be 498.75)***"
   ]
  },
  {
   "cell_type": "code",
   "execution_count": 3,
   "metadata": {},
   "outputs": [
    {
     "name": "stdout",
     "output_type": "stream",
     "text": [
      "Enter Hours:45\n",
      "Enter the Rate:10.5\n",
      "498.75\n"
     ]
    }
   ],
   "source": [
    "\n",
    "hrs = input(\"Enter Hours:\")\n",
    "h = float(hrs)\n",
    "xx = input(\"Enter the Rate:\")\n",
    "x = float(xx)\n",
    "\n",
    "if h <= 40:\n",
    "    print( h * x)\n",
    "elif h > 40:\n",
    "    print(40 * x + (h-40)*1.5*x)"
   ]
  },
  {
   "cell_type": "code",
   "execution_count": null,
   "metadata": {},
   "outputs": [],
   "source": []
  },
  {
   "cell_type": "markdown",
   "metadata": {},
   "source": [
    "## Task \n",
    "\n",
    "***Write a program to prompt for a score between 0.0 and 1.0. If the score is out of range, print an error. If the score is between 0.0 and 1.0***"
   ]
  },
  {
   "cell_type": "code",
   "execution_count": 4,
   "metadata": {},
   "outputs": [
    {
     "name": "stdout",
     "output_type": "stream",
     "text": [
      "Enter Score: 2\n",
      "Out of Range\n"
     ]
    }
   ],
   "source": [
    "score = input(\"Enter Score: \")\n",
    "s =  float(score)\n",
    "x = 'Error'\n",
    "if s >= 0.9 and s <= 1:\n",
    "\tx = 'A'\n",
    "elif s >=0.8 and s < 0.9:\n",
    "\tx='B'\n",
    "elif s >=0.7 and s < 0.8:\n",
    "\tx='C'\n",
    "elif s >= 0.6 and s < 0.7:\n",
    "\tx='D'\n",
    "elif s < .6:\n",
    "\tx ='F'\n",
    "else:\n",
    "\tx =\"Out of Range\"\n",
    "print (x)"
   ]
  },
  {
   "cell_type": "code",
   "execution_count": 1,
   "metadata": {},
   "outputs": [
    {
     "name": "stdout",
     "output_type": "stream",
     "text": [
      "Enter Score: 0.9\n",
      "A\n"
     ]
    }
   ],
   "source": [
    "score = input(\"Enter Score: \")\n",
    "try:\n",
    "    score69=float(score)\n",
    "except:\n",
    "    print('Try a number dumb!!')\n",
    "quit()\n",
    "if score69 >= 1.0 or score69 < 0.0:\n",
    "    print('Out of Range Dumb!!')\n",
    "elif score69 >= 0.9:\n",
    "    print('A')\n",
    "elif score69 >= 0.8:\n",
    "    print('B')\n",
    "elif score69>=0.7:\n",
    "    print('C')\n",
    "elif score69>=0.6:\n",
    "    print('D')\n",
    "elif score69<0.6:\n",
    "    print('F')"
   ]
  },
  {
   "cell_type": "code",
   "execution_count": null,
   "metadata": {},
   "outputs": [],
   "source": []
  },
  {
   "cell_type": "code",
   "execution_count": 6,
   "metadata": {},
   "outputs": [
    {
     "name": "stdout",
     "output_type": "stream",
     "text": [
      "Enter the marks?40\n",
      "you scored grade C...\n"
     ]
    }
   ],
   "source": [
    "#print out the grade of student when a value in entered\n",
    "\n",
    "marks = int(input(\"Enter the marks?\"))\n",
    "if marks >=85 and marks <=100:\n",
    "    print(\"Congrats1 your scored grade A...\")\n",
    "if marks >60 and marks <=85:\n",
    "    print(\"you scored grade B+...\")\n",
    "if marks >40 and marks <=60:\n",
    "    print(\"you scored grade B...\")\n",
    "if marks >30 and marks <=40:\n",
    "    print(\"you scored grade C...\")\n",
    "else:\n",
    "    print(\"Sorry you have failed\")"
   ]
  },
  {
   "cell_type": "code",
   "execution_count": null,
   "metadata": {},
   "outputs": [],
   "source": []
  },
  {
   "cell_type": "code",
   "execution_count": 8,
   "metadata": {},
   "outputs": [
    {
     "name": "stdout",
     "output_type": "stream",
     "text": [
      "What is your name? Gumby\n",
      "Hello, Mr. Gumby\n"
     ]
    }
   ],
   "source": [
    "name = input('What is your name? ')\n",
    "if name.endswith('Gumby'):\n",
    "    print('Hello, Mr. Gumby')"
   ]
  },
  {
   "cell_type": "code",
   "execution_count": 10,
   "metadata": {},
   "outputs": [
    {
     "name": "stdout",
     "output_type": "stream",
     "text": [
      "What is your name? Neonard\n",
      "Hello, stranger\n"
     ]
    }
   ],
   "source": [
    "name = input('What is your name? ')\n",
    "if name.endswith('Gumby'):\n",
    "    print('Hello, Mr. Gumby')\n",
    "else:\n",
    "    print('Hello, stranger')"
   ]
  },
  {
   "cell_type": "code",
   "execution_count": 15,
   "metadata": {},
   "outputs": [
    {
     "name": "stdout",
     "output_type": "stream",
     "text": [
      "What is your name? Mr. Gumby\n",
      "Hello, Mr. Gumby\n"
     ]
    }
   ],
   "source": [
    "name = input('What is your name? ')\n",
    "if name.endswith('Gumby'):\n",
    "    if name.startswith('Mr.'):\n",
    "        print('Hello, Mr. Gumby')\n",
    "    elif name.startswith('Mrs.'):\n",
    "            print('Hello, Mrs. Gumby')\n",
    "    else:\n",
    "        print('Hello, Gumby')\n",
    "else:\n",
    "    print('Hello, stranger')"
   ]
  },
  {
   "cell_type": "markdown",
   "metadata": {},
   "source": [
    "### Comparing integers using if statements and comparison operators."
   ]
  },
  {
   "cell_type": "code",
   "execution_count": 16,
   "metadata": {},
   "outputs": [
    {
     "name": "stdout",
     "output_type": "stream",
     "text": [
      "Enter two integers, and I will tell you the relationships they satisfy.\n",
      "Enter first integer: 4\n",
      "Enter second integer: 5\n",
      "4 is not equal to 5\n",
      "4 is less than 5\n",
      "4 is less than or equal to 5\n"
     ]
    }
   ],
   "source": [
    "print('Enter two integers, and I will tell you','the relationships they satisfy.')\n",
    "\n",
    "# read first integer\n",
    "number1 = int(input('Enter first integer: '))\n",
    "\n",
    "# read second integer\n",
    "number2 = int(input('Enter second integer: '))\n",
    "\n",
    "if number1 == number2:\n",
    "    print(number1, 'is equal to', number2)\n",
    "\n",
    "if number1 != number2:\n",
    "    print(number1, 'is not equal to', number2)\n",
    "\n",
    "if number1 < number2:\n",
    "    print(number1, 'is less than', number2)\n",
    "\n",
    "if number1 > number2:\n",
    "    print(number1, 'is greater than', number2)\n",
    "\n",
    "if number1 <= number2:\n",
    "    print(number1, 'is less than or equal to', number2)\n",
    "    \n",
    "if number1 >= number2:\n",
    "    print(number1, 'is greater than or equal to', number2)"
   ]
  },
  {
   "cell_type": "markdown",
   "metadata": {},
   "source": [
    "### Find the minimum of three values"
   ]
  },
  {
   "cell_type": "code",
   "execution_count": 18,
   "metadata": {},
   "outputs": [
    {
     "name": "stdout",
     "output_type": "stream",
     "text": [
      "Enter first integer: 7\n",
      "Enter second integer: 8\n",
      "Enter third integer: 9\n",
      "Minimum value is 7\n"
     ]
    }
   ],
   "source": [
    "number1 = int(input('Enter first integer: '))\n",
    "number2 = int(input('Enter second integer: '))\n",
    "number3 = int(input('Enter third integer: '))\n",
    "\n",
    "minimum = number1\n",
    "\n",
    "if number2 < minimum:\n",
    "    minimum = number2\n",
    "\n",
    "if number3 < minimum:\n",
    "    minimum = number3\n",
    "\n",
    "print('Minimum value is', minimum)"
   ]
  },
  {
   "cell_type": "markdown",
   "metadata": {},
   "source": []
  }
 ],
 "metadata": {
  "kernelspec": {
   "display_name": "Python 3 (ipykernel)",
   "language": "python",
   "name": "python3"
  },
  "language_info": {
   "codemirror_mode": {
    "name": "ipython",
    "version": 3
   },
   "file_extension": ".py",
   "mimetype": "text/x-python",
   "name": "python",
   "nbconvert_exporter": "python",
   "pygments_lexer": "ipython3",
   "version": "3.9.7"
  }
 },
 "nbformat": 4,
 "nbformat_minor": 4
}
