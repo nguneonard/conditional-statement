{
 "cells": [
  {
   "cell_type": "markdown",
   "id": "8f980f05",
   "metadata": {},
   "source": [
    "#### 1.  Converting: Try converting a string of “True” to a boolean, and then output its type to make sure it converted properly.\n"
   ]
  },
  {
   "cell_type": "code",
   "execution_count": 3,
   "id": "2d5ffdb0",
   "metadata": {},
   "outputs": [
    {
     "data": {
      "text/plain": [
       "str"
      ]
     },
     "execution_count": 3,
     "metadata": {},
     "output_type": "execute_result"
    }
   ],
   "source": [
    "old_s = \"True\"\n",
    "new_s = bool(s)\n",
    "\n",
    "type(old_s)"
   ]
  },
  {
   "cell_type": "code",
   "execution_count": 4,
   "id": "56751aa4",
   "metadata": {},
   "outputs": [
    {
     "data": {
      "text/plain": [
       "bool"
      ]
     },
     "execution_count": 4,
     "metadata": {},
     "output_type": "execute_result"
    }
   ],
   "source": [
    "type(new_s)"
   ]
  },
  {
   "cell_type": "markdown",
   "id": "d81ec809",
   "metadata": {},
   "source": [
    "#### 2.  Sum of Inputs: Create two input statements, and ask the user to enter two numbers. print the sum of these numbers out."
   ]
  },
  {
   "cell_type": "code",
   "execution_count": 10,
   "id": "704732fe",
   "metadata": {},
   "outputs": [
    {
     "name": "stdout",
     "output_type": "stream",
     "text": [
      "Enter the first number: 2\n",
      "Enter the second number: 3\n",
      " 2 +  3 = 5\n"
     ]
    }
   ],
   "source": [
    "num1 = input(\"Enter the first number: \")\n",
    "num2 = input(\"Enter the second number: \")\n",
    "result = int(num1) + int(num2)\n",
    "print(f\" {num1} +  {num2} = {result}\")"
   ]
  },
  {
   "cell_type": "markdown",
   "id": "19fdeebf",
   "metadata": {},
   "source": [
    "#### 3.  Car Information: Ask the user to input the year, make, model, and color of their car, and print a nicely formatted statement like “2018 Blue Chevrolet silverado.”"
   ]
  },
  {
   "cell_type": "code",
   "execution_count": 13,
   "id": "3852221e",
   "metadata": {},
   "outputs": [
    {
     "name": "stdout",
     "output_type": "stream",
     "text": [
      "Enter the year of the car: 2018\n",
      "Enter the color of the car: Blue\n",
      "Enter the model of the carChevrolet\n",
      "Enter the mark of the car: Silverado\n",
      "2018 Blue Chevrolet Silverado\n"
     ]
    }
   ],
   "source": [
    "yr  = input(\"Enter the year of the car: \")\n",
    "col = input(\"Enter the color of the car: \")\n",
    "mod = input(\"Enter the model of the car\")\n",
    "mrk = input(\"Enter the mark of the car: \")\n",
    "\n",
    "print(f\"{yr} {col} {mod} {mrk}\")"
   ]
  },
  {
   "cell_type": "markdown",
   "id": "a3dc0ae2",
   "metadata": {},
   "source": [
    "#### 4.  Checking Inclusion – Part 1:Ask the user for input, and check to see if what  they wrote includes an “es”."
   ]
  },
  {
   "cell_type": "code",
   "execution_count": 27,
   "id": "d56dc923",
   "metadata": {},
   "outputs": [
    {
     "name": "stdout",
     "output_type": "stream",
     "text": [
      "Enter a word! cheese\n",
      "cheese contain 'es' \n"
     ]
    }
   ],
   "source": [
    "word = input(\"Enter a word: \")\n",
    "if \"es\" in word:\n",
    "    print(f\"{word} contain 'es' \")"
   ]
  },
  {
   "cell_type": "code",
   "execution_count": null,
   "id": "6df46f1d",
   "metadata": {},
   "outputs": [],
   "source": []
  },
  {
   "cell_type": "markdown",
   "id": "debb6ba2",
   "metadata": {},
   "source": [
    "#### 5.  Checking Inclusion – Part 2: Ask the user for input, and check to see if what  they wrote has an “ing” at the end. Hint: Use slicing."
   ]
  },
  {
   "cell_type": "code",
   "execution_count": 74,
   "id": "cc31402a",
   "metadata": {},
   "outputs": [
    {
     "name": "stdout",
     "output_type": "stream",
     "text": [
      "Enter a word: doing\n",
      "'ing' is the end of the word: doing\n"
     ]
    }
   ],
   "source": [
    "word = input(\"Enter a word: \")\n",
    "if 'ing' in word[-3:]:\n",
    "    print(f\"'ing' is the end of the word: {word}\")"
   ]
  },
  {
   "cell_type": "code",
   "execution_count": 82,
   "id": "40d727ed",
   "metadata": {},
   "outputs": [
    {
     "name": "stdout",
     "output_type": "stream",
     "text": [
      "Enter a word: doing\n",
      "'ing' is the end of the word: doing\n"
     ]
    }
   ],
   "source": [
    "word = input(\"Enter a word: \")\n",
    "if word[-3:] == 'ing':\n",
    "    print(f\"'ing' is the end of the word: {word}\")"
   ]
  },
  {
   "cell_type": "code",
   "execution_count": null,
   "id": "ed51ee3f",
   "metadata": {},
   "outputs": [],
   "source": []
  },
  {
   "cell_type": "markdown",
   "id": "11ad21d8",
   "metadata": {},
   "source": [
    "#### 6.  Checking Equality: Ask the user to input two words, and write a conditional  statement to check if both words are the same. Make it case insensitive so that capitals do not matter."
   ]
  },
  {
   "cell_type": "code",
   "execution_count": 68,
   "id": "f14e34a2",
   "metadata": {},
   "outputs": [
    {
     "name": "stdout",
     "output_type": "stream",
     "text": [
      "Enter the first word: ngu\n",
      "Enter the second word: ngu\n",
      "Words are the same\n"
     ]
    }
   ],
   "source": [
    "word1 = input(\"Enter the first word: \")\n",
    "word2 = input(\"Enter the second word: \")\n",
    "\n",
    "if word1 == word2:\n",
    "    print(\"Words are the same\")"
   ]
  },
  {
   "cell_type": "code",
   "execution_count": null,
   "id": "564a1f07",
   "metadata": {},
   "outputs": [],
   "source": []
  },
  {
   "cell_type": "markdown",
   "id": "c9738647",
   "metadata": {},
   "source": [
    "#### 7 Returning Exponents: Ask for the user to input a number, and return that  number squared if it is lower than 10. Hint: Investigate arithmetic expressions for exponents."
   ]
  },
  {
   "cell_type": "code",
   "execution_count": 72,
   "id": "0acf73b0",
   "metadata": {},
   "outputs": [
    {
     "name": "stdout",
     "output_type": "stream",
     "text": [
      "Enter a number: 3\n",
      "3 ** 2 = 9\n"
     ]
    }
   ],
   "source": [
    "num = int(input(\"Enter a number: \"))\n",
    "if num < 10:\n",
    "    ans = num ** 2\n",
    "    print(f\"{num} ** 2 = {ans}\")"
   ]
  },
  {
   "cell_type": "code",
   "execution_count": null,
   "id": "e8a589e6",
   "metadata": {},
   "outputs": [],
   "source": []
  },
  {
   "cell_type": "markdown",
   "id": "2ee126bd",
   "metadata": {},
   "source": [
    "#### 8 Higher/Lower: Ask the user to input a number. Type convert that number, and use an if/elif statement to print whether it’s higher or lower than 100."
   ]
  },
  {
   "cell_type": "code",
   "execution_count": 79,
   "id": "7d381db1",
   "metadata": {},
   "outputs": [
    {
     "name": "stdout",
     "output_type": "stream",
     "text": [
      "Enter a number: 50\n",
      "50 is less than 100\n"
     ]
    }
   ],
   "source": [
    "num = int(input(\"Enter a number: \"))\n",
    "if num < 100:\n",
    "    print(f\"{num} is less than 100\")\n",
    "elif num > 100: \n",
    "    print(f\"{num} is greater than 100\")"
   ]
  },
  {
   "cell_type": "code",
   "execution_count": null,
   "id": "1521bef7",
   "metadata": {},
   "outputs": [],
   "source": []
  },
  {
   "cell_type": "markdown",
   "id": "ae5f3a65",
   "metadata": {},
   "source": [
    "#### 9 User Input: Ask the user to input the time of day in military time without a colon (1100 = 11:00 AM). Write a conditional statement so that it outputs the following:\n",
    "- a. “Good Morning” if less than 1200\n",
    "- b. “Good Afternoon” if between 1200 and 1700\n",
    "- c. “Good Evening” if equal or above 1700"
   ]
  },
  {
   "cell_type": "code",
   "execution_count": 85,
   "id": "7a1b4467",
   "metadata": {},
   "outputs": [
    {
     "name": "stdout",
     "output_type": "stream",
     "text": [
      "Enter the time of the day in military format: 1800\n",
      "Good evening\n"
     ]
    }
   ],
   "source": [
    "time = int(input(\"Enter the time of the day in military format: \"))\n",
    "if time < 1200:\n",
    "    print(\"Good morning!\")\n",
    "elif time > 1200 and time < 1700:\n",
    "    print(\"Good Afternoon!\")\n",
    "elif time > 1700:\n",
    "    print(\"Good evening\")"
   ]
  },
  {
   "cell_type": "code",
   "execution_count": null,
   "id": "7d93678a",
   "metadata": {},
   "outputs": [],
   "source": []
  }
 ],
 "metadata": {
  "kernelspec": {
   "display_name": "Python 3 (ipykernel)",
   "language": "python",
   "name": "python3"
  },
  "language_info": {
   "codemirror_mode": {
    "name": "ipython",
    "version": 3
   },
   "file_extension": ".py",
   "mimetype": "text/x-python",
   "name": "python",
   "nbconvert_exporter": "python",
   "pygments_lexer": "ipython3",
   "version": "3.9.7"
  }
 },
 "nbformat": 4,
 "nbformat_minor": 5
}
