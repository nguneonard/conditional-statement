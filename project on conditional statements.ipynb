{
 "cells": [
  {
   "cell_type": "markdown",
   "id": "d6ac610e",
   "metadata": {},
   "source": [
    "## 1 Creating a Calculator"
   ]
  },
  {
   "cell_type": "markdown",
   "id": "e28cb574",
   "metadata": {},
   "source": [
    "we’re going to be building a simple calculator that accepts user input and  outputs the proper result."
   ]
  },
  {
   "cell_type": "markdown",
   "id": "1885d75e",
   "metadata": {},
   "source": [
    "*** Final  Design ***\n",
    "\n",
    "1.  Ask the user for the calculation they would like to perform.\n",
    "2.  Ask the user for the numbers they would like to run the operation \n",
    "on.\n",
    "3.  Set up try/except clause for mathematical operation.\n",
    "- a.  Convert numbers input to floats.\n",
    "- b.  Perform operation and print result.\n",
    "- c.  If an exception is hit, print error."
   ]
  },
  {
   "cell_type": "code",
   "execution_count": 2,
   "id": "f4ac44d7",
   "metadata": {},
   "outputs": [
    {
     "name": "stdout",
     "output_type": "stream",
     "text": [
      "Enter the operation you will like to perform: * / + - add\n",
      "you chose add\n"
     ]
    }
   ],
   "source": []
  },
  {
   "cell_type": "code",
   "execution_count": 17,
   "id": "90126eaa",
   "metadata": {},
   "outputs": [
    {
     "name": "stdout",
     "output_type": "stream",
     "text": [
      "***************************************************************************\n",
      "Enter the operation you will like to perform: * / + - +\n",
      "you have chosen +\n",
      "Please keep in mind that the order of your numbers matter for add and sub\n",
      "Enter the first number: 2\n",
      "Enter the second number: 3\n",
      "first number : 2\n",
      "second number : 3\n",
      "2.0 + 3.0 = 5.0\n",
      "***************************************************************************\n"
     ]
    }
   ],
   "source": [
    "# ask user for calculation to be performed\n",
    "\n",
    "print(\"*\"*75)\n",
    "operation = input(\"Enter the operation you will like to perform: * / + - \")\n",
    "print(f\"you have chosen {operation}\")\n",
    "\n",
    "# ask for numbers, alert order matters for subtracting and dividing\n",
    "if operation == \"*\" or operation == \"/\" or operation ==\"+\" or operation == \"-\":\n",
    "    print(\"Please keep in mind that the order of your numbers matter for div and sub\")\n",
    "num1 = input(\"Enter the first number: \")\n",
    "num2 = input(\"Enter the second number: \")\n",
    "print(f\"first number : {num1}\")\n",
    "print(f\"second number : {num2}\")\n",
    "\n",
    "#  try/except for mathematical operation\n",
    "try:\n",
    "# immediately try to convert numbers input to floats\n",
    "    num1, num2 = float(num1), float(num2)\n",
    "# perform operation and print result\n",
    "    if operation == \"+\":\n",
    "        result = num1 + num2\n",
    "        print( f\"{num1} + {num2} = {result}\")\n",
    "    elif operation == \"-\":\n",
    "        result = num1 - num2\n",
    "        print( f\"{num1} - {num2} = {result}\")\n",
    "    elif operation == \"*\":\n",
    "        result = num1 * num2\n",
    "        print( f\"{num1} *{num2} = {result}\")\n",
    "    elif operation == \"/\":\n",
    "        result = num1 / num2\n",
    "        print( f\"{num1} / {num2} = {result}\")\n",
    "    else:\n",
    "# else will be hit if they didn't chose an option correctly\n",
    "        print(f\"Sorry, but '{operation }' is not an option.\")\n",
    "except:\n",
    "# steb  print error\n",
    "       print(\"Error: Improper numbers used. Please try again.\")\n",
    "print(\"*\"*75)"
   ]
  },
  {
   "cell_type": "code",
   "execution_count": null,
   "id": "339e1e36",
   "metadata": {},
   "outputs": [],
   "source": []
  },
  {
   "cell_type": "markdown",
   "id": "cb36b442",
   "metadata": {},
   "source": [
    "## 2 Age Group: \n",
    "Ask the user to input their age. Depending on their input, output one of the following groups:\n",
    "- Between 0 and 12 = “Kid”\n",
    "- Between 13 and 19 = “Teenager”\n",
    "- Between 20 and 30 = “Young Adult”\n",
    "- Between 31 and 64 = “Adult”\n",
    "- 65 or above = “Senior”"
   ]
  },
  {
   "cell_type": "code",
   "execution_count": 26,
   "id": "79aead57",
   "metadata": {},
   "outputs": [
    {
     "name": "stdout",
     "output_type": "stream",
     "text": [
      "Enter your age: -2\n",
      "Age does not exit!\n"
     ]
    }
   ],
   "source": [
    "age = eval(input(\"Enter your age: \"))\n",
    "\n",
    "if age > 0 and age < 12:\n",
    "    print(\"you are a kid!\")\n",
    "elif age > 13 and age < 19:\n",
    "    print(\"you are a teeneger!\")\n",
    "elif age > 20 and age < 30:\n",
    "    print(\"you are Yound Adult!\")\n",
    "elif age > 31 and age < 64:\n",
    "    print(\"you are Adult!\")\n",
    "elif age >=65 :\n",
    "    print(\"Your are senior!\")\n",
    "else:\n",
    "    print(\"Age does not exit!\")\n",
    "        "
   ]
  },
  {
   "cell_type": "code",
   "execution_count": null,
   "id": "999f3bbf",
   "metadata": {},
   "outputs": [],
   "source": []
  },
  {
   "cell_type": "markdown",
   "id": "6eae2fed",
   "metadata": {},
   "source": [
    "## 3 Guess number program"
   ]
  },
  {
   "cell_type": "code",
   "execution_count": 23,
   "id": "bc5b5fbe",
   "metadata": {
    "scrolled": true
   },
   "outputs": [
    {
     "name": "stdout",
     "output_type": "stream",
     "text": [
      "**************************************************\n",
      "This is Guess number Program!!! \n",
      "==================================================\n",
      "Enter your guess number: 6\n",
      "Your guess is too low since 6 < 15\n",
      "Enter your guess number: 34\n",
      "Your guess is to high since 34 > 15\n",
      "Enter your guess number: 15\n",
      "You win 15 = 15\n"
     ]
    }
   ],
   "source": [
    "from random import randint\n",
    "num = randint(0,20)\n",
    "\n",
    "print(\"*\"*50)\n",
    "print(\"This is Guess number Program!!! \")\n",
    "print(\"=\"*50)\n",
    "guess = int(input(\"Enter your guess number: \"))\n",
    "\n",
    "while (num != guess):\n",
    "    if guess > num:\n",
    "        print(f\"Your guess is to high since {guess} > {num}\")\n",
    "    elif guess < num:\n",
    "        print(f\"Your guess is too low since {guess} < {num}\")\n",
    "    else:\n",
    "        break\n",
    "    guess = int(input(\"Enter your guess number: \"))\n",
    "print(f\"You win {guess} = {num}\")"
   ]
  },
  {
   "cell_type": "code",
   "execution_count": null,
   "id": "cf2a1134",
   "metadata": {},
   "outputs": [],
   "source": []
  },
  {
   "cell_type": "markdown",
   "id": "04d0b96f",
   "metadata": {},
   "source": [
    "## 4 Write a program that asks the user to enter a length in centimeters. \n",
    "If the user enters a negative length, the program should tell the user that the entry is invalid. Otherwise, the program\n",
    "should convert the length to inches and print out the result. There are 2.54 centimeters in an inch."
   ]
  },
  {
   "cell_type": "code",
   "execution_count": 28,
   "id": "3456b57f",
   "metadata": {},
   "outputs": [
    {
     "name": "stdout",
     "output_type": "stream",
     "text": [
      "Enter the lenght in (cm): 10\n",
      "10cm  = 3.94 inch\n"
     ]
    }
   ],
   "source": [
    "length = int(input(\"Enter the lenght in (cm): \"))\n",
    "if length < 0:\n",
    "    print(\"The entry is invalid! \")\n",
    "else:\n",
    "    inches = length / 2.54\n",
    "    print(f\"{length}cm  = {round(inches,2)} inch\")"
   ]
  },
  {
   "cell_type": "code",
   "execution_count": null,
   "id": "de45a0f4",
   "metadata": {},
   "outputs": [],
   "source": []
  },
  {
   "cell_type": "markdown",
   "id": "8bd5ab75",
   "metadata": {},
   "source": [
    "#### 5 Ask the user for a temperature. Then ask them what units, Celsius or Fahrenheit, the temperature is in. Your program should convert the temperature to the other unit."
   ]
  },
  {
   "cell_type": "code",
   "execution_count": 33,
   "id": "6704cb2b",
   "metadata": {},
   "outputs": [
    {
     "name": "stdout",
     "output_type": "stream",
     "text": [
      "Enter the temperature: 25\n",
      "What's the unit of the temerature? Celsius or Fahrenheit! Fahrenheit\n",
      "25Farenheit = -3.89Celsius\n"
     ]
    }
   ],
   "source": [
    "temp = int(input(\"Enter the temperature: \"))\n",
    "\n",
    "choice = input(\"What's the unit of the temerature? Celsius or Fahrenheit! \")\n",
    "if choice == \"Celsius\":\n",
    "    F = (9/5)*temp + 32\n",
    "    print(f\"{temp} Celsius = {round(F,2)} Fahrenheit\")\n",
    "else:\n",
    "    C = (5/9)*(temp-32)\n",
    "    print(f\"{temp}Farenheit = {round(C,2)}Celsius\")"
   ]
  },
  {
   "cell_type": "markdown",
   "id": "b112858d",
   "metadata": {},
   "source": [
    "#### Ask the user to enter a temperature in Celsius. The program should print a message based on the temperature:\n",
    "- • If the temperature is less than -273.15, print that the temperature is invalid because it is below absolute zero.\n",
    "- • If it is exactly -273.15, print that the temperature is absolute 0.\n",
    "- • If the temperature is between -273.15 and 0, print that the temperature is below freezing.\n",
    "- • If it is 0, print that the temperature is at the freezing point.\n",
    "- • If it is between 0 and 100, print that the temperature is in the normal range.\n",
    "- • If it is 100, print that the temperature is at the boiling point.\n",
    "- • If it is above 100, print that the temperature is above the boiling point."
   ]
  },
  {
   "cell_type": "code",
   "execution_count": 35,
   "id": "108b5c97",
   "metadata": {},
   "outputs": [
    {
     "name": "stdout",
     "output_type": "stream",
     "text": [
      "Enter the temperature: 23\n",
      "Temperature is in the normal range\n"
     ]
    }
   ],
   "source": [
    "temp = float(input(\"Enter the temperature: \"))\n",
    "if temp < -273.15:\n",
    "    print(\"Temperature is invalid\")\n",
    "elif temp == -273.15:\n",
    "    print(\"temperature is absoluet zero\")\n",
    "elif temp > -273.15 and temp < 0:\n",
    "    print(\"Temperature is below freezing point\")\n",
    "elif temp == 0:\n",
    "    print(\"Temperature is at the freezing point\")\n",
    "elif temp > 0 and temp < 100:\n",
    "    print(\"Temperature is in the normal range\")\n",
    "elif temp == 100:\n",
    "    print(\"Temperature is at the boiling point\")\n",
    "elif temp > 100:\n",
    "    print(\"temperature is above the boiling point\")"
   ]
  },
  {
   "cell_type": "markdown",
   "id": "61140d39",
   "metadata": {},
   "source": [
    "#### Generate a random number between 1 and 10. Ask the user to guess the number and print a message based on whether they get it right or not."
   ]
  },
  {
   "cell_type": "code",
   "execution_count": 38,
   "id": "2280f9c8",
   "metadata": {},
   "outputs": [
    {
     "name": "stdout",
     "output_type": "stream",
     "text": [
      "Enter a number: 4\n",
      "You get in wrong since 4 != 5\n"
     ]
    }
   ],
   "source": [
    "from random import randint\n",
    "\n",
    "num = randint(1,10)\n",
    "guess = int(input(\"Enter a number: \"))\n",
    "\n",
    "if guess == num:\n",
    "    print(f\"you it right since {guess} = {num}\")\n",
    "else:\n",
    "    print(f\"You get in wrong since {guess} != {num}\")"
   ]
  },
  {
   "cell_type": "code",
   "execution_count": 45,
   "id": "974caa69",
   "metadata": {},
   "outputs": [
    {
     "name": "stdout",
     "output_type": "stream",
     "text": [
      "Enter a number: 4\n",
      "You get in wrong since 4 != 3\n",
      "Enter a number: 5\n",
      "You get in wrong since 5 != 3\n",
      "Enter a number: 3\n",
      "you it right since 3 = 3\n",
      "end of loop\n"
     ]
    }
   ],
   "source": [
    "num = randint(1,10)\n",
    "\n",
    "guess = True\n",
    "while guess != num: \n",
    "    guess = int(input(\"Enter a number: \"))\n",
    "    if guess == num:\n",
    "        print(f\"you got it right since {guess} = {num}\")\n",
    "    else:\n",
    "        print(f\"You get in wrong since {guess} != {num}\")\n",
    "    \n",
    "print(\"end of loop\")"
   ]
  },
  {
   "cell_type": "markdown",
   "id": "03134e95",
   "metadata": {},
   "source": [
    "#### A store charges $12 per item if you buy less than 10 items. If you buy between 10 and 99 items, the cost is $10 per item. If you buy 100 or more items, the cost is $7 per item. Write a program that asks the user how many items they are buying and prints the total cost."
   ]
  },
  {
   "cell_type": "code",
   "execution_count": 48,
   "id": "4f86ef9a",
   "metadata": {},
   "outputs": [
    {
     "name": "stdout",
     "output_type": "stream",
     "text": [
      "Enter the number of items you wanna buy: 100\n",
      "Total cost of 100 items is 700$\n"
     ]
    }
   ],
   "source": [
    "num = int(input(\"Enter the number of items you wanna buy: \"))\n",
    "\n",
    "if num < 10:\n",
    "    total_cost = num * 12\n",
    "    print(f\"Total cost of {num} items is {total_cost}$\")\n",
    "elif num > 10 and num < 99:\n",
    "    total_cost = num * 10\n",
    "    print(f\"Total cost of {num} items is {total_cost}$\")\n",
    "elif num >= 100:\n",
    "    total_cost = num * 7\n",
    "    print(f\"Total cost of {num} items is {total_cost}$\")"
   ]
  },
  {
   "cell_type": "markdown",
   "id": "d98e19f0",
   "metadata": {},
   "source": [
    "#### Write a program that asks the user for two numbers and prints ```Close``` if the numbers are within ```.001``` of each other and ```Not close``` otherwise."
   ]
  },
  {
   "cell_type": "code",
   "execution_count": 55,
   "id": "cf61287a",
   "metadata": {},
   "outputs": [
    {
     "name": "stdout",
     "output_type": "stream",
     "text": [
      "Enter the first number: 2.3\n",
      "Enter the second number: 2.4\n",
      "not close\n"
     ]
    }
   ],
   "source": [
    "num1 = float(input(\"Enter the first number: \"))\n",
    "num2 = float(input(\"Enter the second number: \"))\n",
    "\n",
    "if abs(num1 - num2) <= 0.001:\n",
    "    print(\"close\")\n",
    "else:\n",
    "    print(\"not close\")"
   ]
  },
  {
   "cell_type": "markdown",
   "id": "1aa9a2ac",
   "metadata": {},
   "source": [
    "#### A year is a leap year if it is divisible by 4, except that years divisible by 100 are not leap years unless they are also divisible by 400. Write a program that asks the user for a year and prints out whether it is a leap year or not."
   ]
  },
  {
   "cell_type": "code",
   "execution_count": 66,
   "id": "5b1056b1",
   "metadata": {},
   "outputs": [
    {
     "name": "stdout",
     "output_type": "stream",
     "text": [
      "Enter the year: 2005\n",
      "2005 is not a leap year\n"
     ]
    }
   ],
   "source": [
    "yr = int(input(\"Enter the year: \"))\n",
    "\n",
    "if yr %4 == 0 or yr %100 == 0 or yr %400 == 0:\n",
    "    print(f\"{yr} is a leap year\")\n",
    "else:\n",
    "    print(f\"{yr} is not a leap year\")"
   ]
  },
  {
   "cell_type": "markdown",
   "id": "ed031f01",
   "metadata": {},
   "source": [
    "#### Write a program that asks the user to enter a number and prints out all the divisors of that number. [Hint: the % operator is used to tell if a number is divisible by something."
   ]
  },
  {
   "cell_type": "code",
   "execution_count": 108,
   "id": "b1978bf8",
   "metadata": {},
   "outputs": [
    {
     "name": "stdout",
     "output_type": "stream",
     "text": [
      "Enter a number and i will tell you all its divisors: 30\n",
      "The divisor of 30 are: [1, 2, 3, 5, 6, 10, 15, 30]\n"
     ]
    }
   ],
   "source": [
    "divisor = []\n",
    "\n",
    "num = int(input(\"Enter a number and i will tell you all its divisors: \"))\n",
    "\n",
    "for i in range(1,num+1):\n",
    "    if num % i == 0:\n",
    "        divisor.append(i)\n",
    "\n",
    "print(f\"The divisor of {num} are: {divisor}\") "
   ]
  },
  {
   "cell_type": "code",
   "execution_count": 95,
   "id": "1390abb7",
   "metadata": {},
   "outputs": [
    {
     "name": "stdout",
     "output_type": "stream",
     "text": [
      "Enter an integer: 20\n",
      "The divisors of the number are: \n",
      "1 2 4 5 10 20 "
     ]
    }
   ],
   "source": [
    "n = int(input(\"Enter an integer: \"))\n",
    "print(\"The divisors of the number are: \")\n",
    "for i in range(1, n+1):\n",
    "    if (n%i==0):\n",
    "        print(i, end=' ')"
   ]
  },
  {
   "cell_type": "markdown",
   "id": "6241e9d5",
   "metadata": {},
   "source": [
    "#### Write a multiplication game program for kids. The program should give the player ten randomly generated multiplication questions to do. After each, the program should tell them whether they got it right or wrong and what the correct answer is."
   ]
  },
  {
   "cell_type": "code",
   "execution_count": 109,
   "id": "ee9a0bf0",
   "metadata": {},
   "outputs": [
    {
     "data": {
      "text/plain": [
       "'for i in range(1,11):\\n    num1 = int(input(\"Enter the first number: \"))\\n    num2 = int(input(\"Enter the second number: \"))\\n    result = num1 * num2\\n    if result == (num1 * num2):\\n        print(f\"Question  {i}: {num1} x {num2} = {result}\")\\n        print(\"Right!\")\\n    else:\\n        print(\"Wrong. The Answer is\", result)'"
      ]
     },
     "execution_count": 109,
     "metadata": {},
     "output_type": "execute_result"
    }
   ],
   "source": [
    "for i in range(1,11):\n",
    "    num1 = int(input(\"Enter the first number: \"))\n",
    "    num2 = int(input(\"Enter the second number: \"))\n",
    "    result = num1 * num2\n",
    "    if result == (num1 * num2):\n",
    "        print(f\"Question  {i}: {num1} x {num2} = {result}\")\n",
    "        print(\"Right!\")\n",
    "    else:\n",
    "        print(\"Wrong. The Answer is\", result)"
   ]
  },
  {
   "cell_type": "markdown",
   "id": "b254b575",
   "metadata": {},
   "source": [
    "#### Write a program that asks the user for an hour between 1 and 12, asks them to enter am or pm, and asks them how many hours into the future they want to go. Print out what the hour will be that many hours into the future, printing am or pm as appropriate. An example is shown below."
   ]
  },
  {
   "cell_type": "code",
   "execution_count": 100,
   "id": "0826c32b",
   "metadata": {},
   "outputs": [
    {
     "name": "stdout",
     "output_type": "stream",
     "text": [
      "enter hour :3\n",
      "enter am (1) or pm (2) :1\n",
      "How many hours ahead ?:2\n",
      "New hour : 5am\n"
     ]
    }
   ],
   "source": [
    "#Take the user's input which is in hour and date in am pm format.\n",
    "user = eval(input('enter hour :'))\n",
    "day = input('enter am (1) or pm (2) :')\n",
    "hour = eval(input('How many hours ahead ?:'))\n",
    "\n",
    "# Transform it to 24 format. Ex: 1pm becomes 13, 12 am becomes 0, etc.\n",
    "if day == 'pm' and user != 12:\n",
    "    user += 12;\n",
    "elif day == 'am' and user == 12:\n",
    "    user = 0;\n",
    "\n",
    "# add the transformed date (in 24 format) to the number of hours the user wants and store that value in new_hour\n",
    "new_hour = user + hour;\n",
    "\n",
    "# Now new_hour holds the result in 24 format. We need to transform back to am pm format. \n",
    "# So Divide new_hour by 24 and take the reminder.Ex: if new_hour = 27 --> new_hour % 24 = 3\n",
    "new_hour = new_hour % 24;\n",
    "\n",
    "# Remember that new_hour is still in 24 hour format. So: If : 0 <= new_hour < 12 --> the new date to print is AM\n",
    "# Else --> the new date to print is PM    \n",
    "if new_hour >= 0 and new_hour < 12:\n",
    "    new_hour = new_hour % 12 ;\n",
    "    if new_hour == 0:\n",
    "        new_hour = 12;\n",
    "    print(f'New hour : {new_hour}', end='am')\n",
    "    print()\n",
    "else:\n",
    "    new_hour = new_hour % 12;\n",
    "    if new_hour == 0:\n",
    "        new_hour = 12 ;\n",
    "    print(f'New hour : {new_hour}', end='pm')\n",
    "    print()"
   ]
  },
  {
   "cell_type": "code",
   "execution_count": 105,
   "id": "d717a0df",
   "metadata": {},
   "outputs": [
    {
     "name": "stdout",
     "output_type": "stream",
     "text": [
      "enter hour :1\n",
      "enter am (1) or pm (2) :1\n",
      "How many hours ahead ?:3\n",
      "New Hour: 4 am\n"
     ]
    }
   ],
   "source": [
    "from datetime import datetime, timedelta\n",
    "\n",
    "# Get User Input\n",
    "user = eval(input('enter hour :'))\n",
    "day = input('enter am (1) or pm (2) :')\n",
    "hour = eval(input('How many hours ahead ?:'))\n",
    "\n",
    "# Convert time to 24 hour format suitable for datetime object (12 AM = 0, 12 PM = 12)\n",
    "if day == 'pm' and user != 12:\n",
    "    user +=12\n",
    "elif day == 'am' and user == 12:\n",
    "    user = 0\n",
    "\n",
    "# Create a datetime object since time objects cant have hours > 24\n",
    "curr_time = datetime(year=1,month=1,day=1, hour=user)\n",
    "time_delta = timedelta(hours=hour)\n",
    "new_time = curr_time + time_delta\n",
    "\n",
    "# Pull out just the hour from our datetime object\n",
    "new_hour = new_time.time().hour\n",
    "\n",
    "# convert the result hour back to 12 hour format and print it.\n",
    "result_hour = new_hour % 12 if new_hour%12 != 0 else 12\n",
    "if new_hour >= 0 and new_hour < 12:\n",
    "    print(f\"New Hour: {result_hour} am\")\n",
    "else:\n",
    "    print(f\"New Hour: {result_hour} pm\")"
   ]
  },
  {
   "cell_type": "markdown",
   "id": "1887f7f7",
   "metadata": {},
   "source": [
    "## Rock, Paper, Scissors! game\n",
    "Write a program that lets the user play Rock-Paper-Scissors against the computer. There should be five rounds, and after those five rounds, your program should print out who won and lost or that there is a tie."
   ]
  },
  {
   "cell_type": "code",
   "execution_count": 99,
   "id": "95cccdfa",
   "metadata": {},
   "outputs": [
    {
     "name": "stdout",
     "output_type": "stream",
     "text": [
      "Enter a choice (rock, paper, scissors): rock\n",
      "\n",
      "You chose rock, computer chose rock.\n",
      "\n",
      "Both players selected rock. It's a tie!\n"
     ]
    }
   ],
   "source": [
    "import random\n",
    "\n",
    "user_action = input(\"Enter a choice (rock, paper, scissors): \")\n",
    "possible_actions = [\"rock\", \"paper\", \"scissors\"]\n",
    "\n",
    "# Make the Computer Choose\n",
    "computer_action = random.choice(possible_actions)            \n",
    "print(f\"\\nYou chose {user_action}, computer chose {computer_action}.\\n\")\n",
    "\n",
    "# Determine a Winner\n",
    "if user_action == computer_action:\n",
    "    print(f\"Both players selected {user_action}. It's a tie!\")\n",
    "elif user_action == \"rock\":\n",
    "    if computer_action == \"scissors\":\n",
    "        print(\"Rock smashes scissors! You win!\")\n",
    "    else:\n",
    "        print(\"Paper covers rock! You lose.\")\n",
    "elif user_action == \"paper\":\n",
    "    if computer_action == \"rock\":\n",
    "        print(\"Paper covers rock! You win!\")\n",
    "    else:\n",
    "        print(\"Scissors cuts paper! You lose.\")\n",
    "elif user_action == \"scissors\":\n",
    "    if computer_action == \"paper\":\n",
    "        print(\"Scissors cuts paper! You win!\")\n",
    "    else:\n",
    "        print(\"Rock smashes scissors! You lose.\")"
   ]
  },
  {
   "cell_type": "code",
   "execution_count": null,
   "id": "a05c8893",
   "metadata": {},
   "outputs": [],
   "source": [
    "# Play Several Games in a Row\n",
    "\n",
    "import random\n",
    "\n",
    "while True:\n",
    "    user_action = input(\"Enter a choice (rock, paper, scissors): \")\n",
    "    possible_actions = [\"rock\", \"paper\", \"scissors\"]\n",
    "    computer_action = random.choice(possible_actions)\n",
    "    print(f\"\\nYou chose {user_action}, computer chose {computer_action}.\\n\")\n",
    "\n",
    "    if user_action == computer_action:\n",
    "        print(f\"Both players selected {user_action}. It's a tie!\")\n",
    "    elif user_action == \"rock\":\n",
    "        if computer_action == \"scissors\":\n",
    "            print(\"Rock smashes scissors! You win!\")\n",
    "        else:\n",
    "            print(\"Paper covers rock! You lose.\")\n",
    "    elif user_action == \"paper\":\n",
    "        if computer_action == \"rock\":\n",
    "            print(\"Paper covers rock! You win!\")\n",
    "        else:\n",
    "            print(\"Scissors cuts paper! You lose.\")\n",
    "    elif user_action == \"scissors\":\n",
    "        if computer_action == \"paper\":\n",
    "            print(\"Scissors cuts paper! You win!\")\n",
    "        else:\n",
    "            print(\"Rock smashes scissors! You lose.\")\n",
    "\n",
    "    play_again = input(\"Play again? (y/n): \")\n",
    "    if play_again.lower() != \"y\":\n",
    "        break"
   ]
  }
 ],
 "metadata": {
  "kernelspec": {
   "display_name": "Python 3 (ipykernel)",
   "language": "python",
   "name": "python3"
  },
  "language_info": {
   "codemirror_mode": {
    "name": "ipython",
    "version": 3
   },
   "file_extension": ".py",
   "mimetype": "text/x-python",
   "name": "python",
   "nbconvert_exporter": "python",
   "pygments_lexer": "ipython3",
   "version": "3.9.7"
  }
 },
 "nbformat": 4,
 "nbformat_minor": 5
}
